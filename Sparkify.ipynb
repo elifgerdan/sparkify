{
 "cells": [
  {
   "cell_type": "markdown",
   "metadata": {},
   "source": [
    "# Sparkify Project Workspace\n",
    "This workspace contains a tiny subset (128MB) of the full dataset available (12GB). Feel free to use this workspace to build your project, or to explore a smaller subset with Spark before deploying your cluster on the cloud. Instructions for setting up your Spark cluster is included in the last lesson of the Extracurricular Spark Course content.\n",
    "\n",
    "You can follow the steps below to guide your data analysis and model building portion of this project."
   ]
  },
  {
   "cell_type": "code",
   "execution_count": 1,
   "metadata": {},
   "outputs": [],
   "source": [
    "# import libraries\n",
    "import sys, os\n",
    "\n",
    "from pyspark.sql import SparkSession\n",
    "from pyspark.sql.functions import udf\n",
    "from pyspark.sql.types import *\n",
    "from pyspark.sql.functions import *\n",
    "from pyspark.sql.functions import sum as Fsum\n",
    "from pyspark.sql.window import Window\n",
    "\n",
    "import datetime\n",
    "\n",
    "import numpy as np\n",
    "import pandas as pd\n",
    "%matplotlib inline\n",
    "import matplotlib.pyplot as plt\n",
    "\n",
    "from pyspark.ml.feature import OneHotEncoderEstimator, StringIndexer, VectorAssembler\n",
    "from pyspark.ml import Pipeline\n",
    "from pyspark.ml.tuning import CrossValidator\n",
    "from pyspark.ml.evaluation import RegressionEvaluator\n",
    "from pyspark.sql.types import IntegerType, ArrayType, FloatType, DoubleType, Row, DateType\n",
    "from pyspark.ml.linalg import DenseVector, SparseVector\n",
    "from pyspark.ml.classification import LogisticRegression, RandomForestClassifier, GBTClassifier\n",
    "from pyspark.ml.evaluation import  MulticlassClassificationEvaluator\n",
    "from pyspark.ml.feature import CountVectorizer, IDF, Normalizer, PCA, RegexTokenizer, StandardScaler, StopWordsRemover, StringIndexer, VectorAssembler\n",
    "from pyspark.ml.tuning import CrossValidator, ParamGridBuilder\n",
    "from pyspark.ml.evaluation import BinaryClassificationEvaluator"
   ]
  },
  {
   "cell_type": "code",
   "execution_count": 2,
   "metadata": {},
   "outputs": [],
   "source": [
    "import re\n",
    "import copy\n",
    "import time\n",
    "import datetime\n",
    "import numpy as np\n",
    "import pandas as pd\n",
    "import seaborn as sns\n",
    "import matplotlib.pyplot as plt\n",
    "from statsmodels.stats.proportion import proportions_ztest\n",
    "\n",
    "sns.set(style=\"whitegrid\")"
   ]
  },
  {
   "cell_type": "code",
   "execution_count": 3,
   "metadata": {},
   "outputs": [],
   "source": [
    "spark = SparkSession.builder.appName('sparkify') \\\n",
    "                    .config(\"spark.driver.memory\", \"32g\") \\\n",
    "                    .config(\"spark.driver.maxResultSize\", \"64g\") \\\n",
    "                    .config(\"spark.executor.memory\", \"16g\") \\\n",
    "                    .config(\"spark.executor.cores\", \"5\") \\\n",
    "                    .config(\"spark.executor.instances\", \"60\") \\\n",
    "                    .getOrCreate()"
   ]
  },
  {
   "cell_type": "markdown",
   "metadata": {},
   "source": [
    "# Load and Clean Dataset\n",
    "In this workspace, the mini-dataset file is `mini_sparkify_event_data.json`. Load and clean the dataset, checking for invalid or missing data - for example, records without userids or sessionids. "
   ]
  },
  {
   "cell_type": "code",
   "execution_count": 4,
   "metadata": {},
   "outputs": [],
   "source": [
    "eventDf = spark.read.json(\"mini_sparkify_event_data.json\")"
   ]
  },
  {
   "cell_type": "code",
   "execution_count": 5,
   "metadata": {},
   "outputs": [
    {
     "name": "stdout",
     "output_type": "stream",
     "text": [
      "+------+\n",
      "|userId|\n",
      "+------+\n",
      "|      |\n",
      "+------+\n",
      "\n"
     ]
    }
   ],
   "source": [
    "eventDf.where(col(\"auth\")==lit(\"Guest\")).select(\"userId\").distinct().show()"
   ]
  },
  {
   "cell_type": "code",
   "execution_count": 6,
   "metadata": {},
   "outputs": [],
   "source": [
    "def clean(df):\n",
    "    \"\"\"cleans dataframe\n",
    "    :param df: Spark DataFrame\n",
    "    :return df cleaned Spark DataFrame\n",
    "    \"\"\"\n",
    "    df = df.where((col(\"userId\")!=lit(''))\\\n",
    "                              &(col(\"userId\").isNotNull())\\\n",
    "                              &(lower(col(\"userId\"))!=lit('null'))\\\n",
    "                              &(col(\"sessionId\").cast('string')!=lit(''))\\\n",
    "                              &(col(\"sessionId\").isNotNull())\\\n",
    "                              &(lower(col(\"sessionId\"))!=lit('null')))\n",
    "\n",
    "    for field in df.schema.fields:\n",
    "        if field.dataType==StringType():\n",
    "            df = df.withColumn(field.name, regexp_replace(field.name, '[^a-zA-Z0-9\\,\\-]', ''))\n",
    "\n",
    "    df = df.withColumn('interaction_time', from_unixtime(col('ts').cast(LongType())/1000).cast(TimestampType()))\n",
    "    df = df.withColumn('month', month(col('interaction_time')))\n",
    "    df = df.withColumn('date', from_unixtime(col('ts')/1000).cast(DateType()))\n",
    "    df = df.filter(col('auth')!='LoggedOut')\n",
    "    df = df.withColumn('location', split(col('location'),',').getItem(1))\n",
    "    return df"
   ]
  },
  {
   "cell_type": "markdown",
   "metadata": {},
   "source": [
    "# Exploratory Data Analysis\n",
    "When you're working with the full dataset, perform EDA by loading a small subset of the data and doing basic manipulations within Spark. In this workspace, you are already provided a small subset of data you can explore.\n",
    "\n",
    "### Define Churn\n",
    "\n",
    "Once you've done some preliminary analysis, create a column `Churn` to use as the label for your model. I suggest using the `Cancellation Confirmation` events to define your churn, which happen for both paid and free users. As a bonus task, you can also look into the `Downgrade` events.\n",
    "\n",
    "### Explore Data\n",
    "Once you've defined churn, perform some exploratory data analysis to observe the behavior for users who stayed vs users who churned. You can start by exploring aggregates on these two groups of users, observing how much of a specific action they experienced per a certain time unit or number of songs played."
   ]
  },
  {
   "cell_type": "code",
   "execution_count": 7,
   "metadata": {},
   "outputs": [
    {
     "name": "stdout",
     "output_type": "stream",
     "text": [
      "+-----+------+\n",
      "|level| count|\n",
      "+-----+------+\n",
      "| free| 58338|\n",
      "| paid|228162|\n",
      "+-----+------+\n",
      "\n"
     ]
    }
   ],
   "source": [
    "eventDf.groupBy(\"level\").count().orderBy(\"level\").show()"
   ]
  },
  {
   "cell_type": "code",
   "execution_count": 8,
   "metadata": {},
   "outputs": [
    {
     "name": "stdout",
     "output_type": "stream",
     "text": [
      "+----------+------+\n",
      "|      auth| count|\n",
      "+----------+------+\n",
      "| Cancelled|    52|\n",
      "|     Guest|    97|\n",
      "| Logged In|278102|\n",
      "|Logged Out|  8249|\n",
      "+----------+------+\n",
      "\n"
     ]
    }
   ],
   "source": [
    "eventDf.groupBy(\"auth\").count().orderBy(\"auth\").show()"
   ]
  },
  {
   "cell_type": "code",
   "execution_count": 9,
   "metadata": {},
   "outputs": [
    {
     "name": "stdout",
     "output_type": "stream",
     "text": [
      "+--------------------+------+\n",
      "|                page| count|\n",
      "+--------------------+------+\n",
      "|               About|   924|\n",
      "|          Add Friend|  4277|\n",
      "|     Add to Playlist|  6526|\n",
      "|              Cancel|    52|\n",
      "|Cancellation Conf...|    52|\n",
      "|           Downgrade|  2055|\n",
      "|               Error|   258|\n",
      "|                Help|  1726|\n",
      "|                Home| 14457|\n",
      "|               Login|  3241|\n",
      "|              Logout|  3226|\n",
      "|            NextSong|228108|\n",
      "|            Register|    18|\n",
      "|         Roll Advert|  3933|\n",
      "|       Save Settings|   310|\n",
      "|            Settings|  1514|\n",
      "|    Submit Downgrade|    63|\n",
      "| Submit Registration|     5|\n",
      "|      Submit Upgrade|   159|\n",
      "|         Thumbs Down|  2546|\n",
      "|           Thumbs Up| 12551|\n",
      "|             Upgrade|   499|\n",
      "+--------------------+------+\n",
      "\n"
     ]
    }
   ],
   "source": [
    "eventDf.groupBy(\"page\").count().orderBy(\"page\").show(30)"
   ]
  },
  {
   "cell_type": "markdown",
   "metadata": {},
   "source": [
    "# Feature Engineering\n",
    "Once you've familiarized yourself with the data, build out the features you find promising to train your model on. To work with the full dataset, you can follow the following steps.\n",
    "- Write a script to extract the necessary features from the smaller subset of data\n",
    "- Ensure that your script is scalable, using the best practices discussed in Lesson 3\n",
    "- Try your script on the full data set, debugging your script if necessary\n",
    "\n",
    "If you are working in the classroom workspace, you can just extract features based on the small subset of data contained here. Be sure to transfer over this work to the larger dataset when you work on your Spark cluster."
   ]
  },
  {
   "cell_type": "code",
   "execution_count": 10,
   "metadata": {},
   "outputs": [],
   "source": [
    "def label_n_transform(df):\n",
    "    \"\"\"transforms features from existing fields & adds churn column\n",
    "    :param df: imput data\n",
    "    :return df: transformed data\n",
    "    \"\"\"\n",
    "    churnDf = df.withColumn(\"cancel\", max(when((col('page').isin(['Cancellation Confirmation','Cancel']))|(col(\"auth\")==lit('Cancelled')),lit(1)).otherwise(lit(0))).over(Window.partitionBy(\"userId\")))\\\n",
    "                .withColumn(\"next_level\", lead(\"level\", 1).over(Window.partitionBy(\"userId\").orderBy(col(\"ts\").asc())))\\\n",
    "                .withColumn(\"downgrade\", max(when((col(\"level\")==lit('paid'))&(col(\"next_level\")==lit('free')),lit(1)).otherwise(lit(0))).over(Window.partitionBy(\"userId\")))\\\n",
    "                .withColumn(\"churn\", when((col(\"downgrade\")==lit(1))|(col(\"cancel\")==lit(1)),lit(1)).otherwise(lit(0)))\\\n",
    "                .withColumn(\"latestInteraction\", max(col('ts')).over(Window.partitionBy(\"userId\")))\\\n",
    "                .withColumn(\"lastInteraction\", max(when(col('churn')==lit(1),col('ts')).otherwise(lit(None))).over(Window.partitionBy(\"userId\")))\\\n",
    "                .withColumn('registeredDays', ((coalesce(col('lastInteraction'),col('latestInteraction'))-col('registration'))/86400000).cast(IntegerType()))\\\n",
    "                .withColumn('validLevel', first('level').over(Window.partitionBy(\"userId\").orderBy(col(\"ts\").desc())))\\\n",
    "                .withColumn('avgLength', avg('length').over(Window.partitionBy(\"userId\")))\\\n",
    "                .withColumn('cntSessions', size(collect_set(\"sessionId\").over(Window.partitionBy(\"userId\"))))\\\n",
    "                .withColumn('avgSessions', size(collect_set(\"sessionId\").over(Window.partitionBy(\"userId\",'date'))))\\\n",
    "                .withColumn('cntActiveDays', size(collect_set(\"date\").over(Window.partitionBy(\"userId\"))))\\\n",
    "                .withColumn('avgDailySessions', sum(col('avgSessions')).over(Window.partitionBy(\"userId\"))/col('cntSessions'))\\\n",
    "                .withColumn('avgDailyItem', (max(\"itemInSession\").over(Window.partitionBy(\"userId\"))/col('cntActiveDays')))\\\n",
    "                .withColumn('avgSessionLength', (max(\"ts\").over(Window.partitionBy('userId','date','sessionId'))-min(\"ts\").over(Window.partitionBy('userId','date','sessionId')))*0.001)\\\n",
    "                .withColumn('avgDailySessionLength', sum(col('avgSessionLength')).over(Window.partitionBy(\"userId\"))/col('cntSessions'))\n",
    "\n",
    "    userChurnDf=churnDf.select('userId','gender', 'location','registeredDays', 'validLevel', 'avgLength', 'cntSessions', 'avgDailySessions', 'avgDailyItem', 'cntActiveDays','avgDailySessionLength','churn' ).dropDuplicates()\n",
    "    \n",
    "    userPageDf=churnDf.groupby('userId','date','cntActiveDays').pivot(\"page\").agg(count(lit(1))).drop('CancellationConfirmation', 'Cancel')\n",
    "    for c in userPageDf.columns[3:]:\n",
    "        userPageDf=userPageDf.withColumn(c, (sum(coalesce(col(c),lit(0))).over(Window.partitionBy(\"userId\")))/col('cntActiveDays'))\\\n",
    "                             .withColumnRenamed(c, 'avgDaily'+c)\n",
    "    userPageDf=userPageDf.drop('date', 'cntActiveDays')\n",
    "    \n",
    "    df = userChurnDf.join(userPageDf, on='userId')\n",
    "    churned_user_count = churnDf.filter(churnDf[\"churn\"] == 1).select(\"userId\").dropDuplicates().count()\n",
    "    print(\"churned user count: {} (total: {})\".format(churned_user_count, churnDf.count()))\n",
    "    print(\"churned user rate: {:.2f}%\".format(churned_user_count / churnDf.count() * 100))\n",
    "    \n",
    "    return churnDf, df\n",
    "    "
   ]
  },
  {
   "cell_type": "code",
   "execution_count": 11,
   "metadata": {},
   "outputs": [
    {
     "name": "stdout",
     "output_type": "stream",
     "text": [
      "churned user count: 92 (total: 278154)\n",
      "churned user rate: 0.03%\n"
     ]
    }
   ],
   "source": [
    "churnDf, finalDf = label_n_transform(clean(eventDf))"
   ]
  },
  {
   "cell_type": "code",
   "execution_count": 12,
   "metadata": {},
   "outputs": [],
   "source": [
    "fig, ax = plt.subplots(figsize=(10,5))\n",
    "page = churnDf.select([\"page\",\"churn\"]).groupby([ \"page\",\"churn\"]).count().sort(\"page\").toPandas()\n",
    "sns.barplot( x=\"count\",y=\"page\", hue=\"churn\", data=page)\n",
    "plt.savefig('page3.jpg')\n",
    "plt.close()"
   ]
  },
  {
   "cell_type": "code",
   "execution_count": 13,
   "metadata": {},
   "outputs": [],
   "source": [
    "fig, ax = plt.subplots(figsize=(10,5))\n",
    "gender = churnDf.select([\"userId\",\"gender\",\"churn\"]).dropDuplicates().groupby([ \"gender\",\"churn\"]).count().sort(\"gender\").toPandas()\n",
    "sns.barplot( x=\"count\",y=\"gender\", hue=\"churn\", data=gender)\n",
    "plt.savefig('gender3.jpg')\n",
    "plt.close()"
   ]
  },
  {
   "cell_type": "markdown",
   "metadata": {},
   "source": [
    "![](page3.jpg)![](gender3.jpg)"
   ]
  },
  {
   "cell_type": "code",
   "execution_count": 14,
   "metadata": {},
   "outputs": [
    {
     "data": {
      "text/html": [
       "<div>\n",
       "<style scoped>\n",
       "    .dataframe tbody tr th:only-of-type {\n",
       "        vertical-align: middle;\n",
       "    }\n",
       "\n",
       "    .dataframe tbody tr th {\n",
       "        vertical-align: top;\n",
       "    }\n",
       "\n",
       "    .dataframe thead th {\n",
       "        text-align: right;\n",
       "    }\n",
       "</style>\n",
       "<table border=\"1\" class=\"dataframe\">\n",
       "  <thead>\n",
       "    <tr style=\"text-align: right;\">\n",
       "      <th></th>\n",
       "      <th>userId</th>\n",
       "      <th>gender</th>\n",
       "      <th>location</th>\n",
       "      <th>registeredDays</th>\n",
       "      <th>validLevel</th>\n",
       "      <th>avgLength</th>\n",
       "      <th>cntSessions</th>\n",
       "      <th>avgDailySessions</th>\n",
       "      <th>avgDailyItem</th>\n",
       "      <th>cntActiveDays</th>\n",
       "      <th>...</th>\n",
       "      <th>avgDailyLogout</th>\n",
       "      <th>avgDailyNextSong</th>\n",
       "      <th>avgDailyRollAdvert</th>\n",
       "      <th>avgDailySaveSettings</th>\n",
       "      <th>avgDailySettings</th>\n",
       "      <th>avgDailySubmitDowngrade</th>\n",
       "      <th>avgDailySubmitUpgrade</th>\n",
       "      <th>avgDailyThumbsDown</th>\n",
       "      <th>avgDailyThumbsUp</th>\n",
       "      <th>avgDailyUpgrade</th>\n",
       "    </tr>\n",
       "  </thead>\n",
       "  <tbody>\n",
       "    <tr>\n",
       "      <th>0</th>\n",
       "      <td>100010</td>\n",
       "      <td>F</td>\n",
       "      <td>CT</td>\n",
       "      <td>55</td>\n",
       "      <td>free</td>\n",
       "      <td>243.421445</td>\n",
       "      <td>7</td>\n",
       "      <td>54.428571</td>\n",
       "      <td>15.857143</td>\n",
       "      <td>7</td>\n",
       "      <td>...</td>\n",
       "      <td>0.714286</td>\n",
       "      <td>39.285714</td>\n",
       "      <td>7.428571</td>\n",
       "      <td>0.0</td>\n",
       "      <td>0.0</td>\n",
       "      <td>0.0</td>\n",
       "      <td>0.0</td>\n",
       "      <td>0.714286</td>\n",
       "      <td>2.428571</td>\n",
       "      <td>0.285714</td>\n",
       "    </tr>\n",
       "    <tr>\n",
       "      <th>1</th>\n",
       "      <td>100010</td>\n",
       "      <td>F</td>\n",
       "      <td>CT</td>\n",
       "      <td>55</td>\n",
       "      <td>free</td>\n",
       "      <td>243.421445</td>\n",
       "      <td>7</td>\n",
       "      <td>54.428571</td>\n",
       "      <td>15.857143</td>\n",
       "      <td>7</td>\n",
       "      <td>...</td>\n",
       "      <td>0.714286</td>\n",
       "      <td>39.285714</td>\n",
       "      <td>7.428571</td>\n",
       "      <td>0.0</td>\n",
       "      <td>0.0</td>\n",
       "      <td>0.0</td>\n",
       "      <td>0.0</td>\n",
       "      <td>0.714286</td>\n",
       "      <td>2.428571</td>\n",
       "      <td>0.285714</td>\n",
       "    </tr>\n",
       "    <tr>\n",
       "      <th>2</th>\n",
       "      <td>100010</td>\n",
       "      <td>F</td>\n",
       "      <td>CT</td>\n",
       "      <td>55</td>\n",
       "      <td>free</td>\n",
       "      <td>243.421445</td>\n",
       "      <td>7</td>\n",
       "      <td>54.428571</td>\n",
       "      <td>15.857143</td>\n",
       "      <td>7</td>\n",
       "      <td>...</td>\n",
       "      <td>0.714286</td>\n",
       "      <td>39.285714</td>\n",
       "      <td>7.428571</td>\n",
       "      <td>0.0</td>\n",
       "      <td>0.0</td>\n",
       "      <td>0.0</td>\n",
       "      <td>0.0</td>\n",
       "      <td>0.714286</td>\n",
       "      <td>2.428571</td>\n",
       "      <td>0.285714</td>\n",
       "    </tr>\n",
       "    <tr>\n",
       "      <th>3</th>\n",
       "      <td>100010</td>\n",
       "      <td>F</td>\n",
       "      <td>CT</td>\n",
       "      <td>55</td>\n",
       "      <td>free</td>\n",
       "      <td>243.421445</td>\n",
       "      <td>7</td>\n",
       "      <td>54.428571</td>\n",
       "      <td>15.857143</td>\n",
       "      <td>7</td>\n",
       "      <td>...</td>\n",
       "      <td>0.714286</td>\n",
       "      <td>39.285714</td>\n",
       "      <td>7.428571</td>\n",
       "      <td>0.0</td>\n",
       "      <td>0.0</td>\n",
       "      <td>0.0</td>\n",
       "      <td>0.0</td>\n",
       "      <td>0.714286</td>\n",
       "      <td>2.428571</td>\n",
       "      <td>0.285714</td>\n",
       "    </tr>\n",
       "    <tr>\n",
       "      <th>4</th>\n",
       "      <td>100010</td>\n",
       "      <td>F</td>\n",
       "      <td>CT</td>\n",
       "      <td>55</td>\n",
       "      <td>free</td>\n",
       "      <td>243.421445</td>\n",
       "      <td>7</td>\n",
       "      <td>54.428571</td>\n",
       "      <td>15.857143</td>\n",
       "      <td>7</td>\n",
       "      <td>...</td>\n",
       "      <td>0.714286</td>\n",
       "      <td>39.285714</td>\n",
       "      <td>7.428571</td>\n",
       "      <td>0.0</td>\n",
       "      <td>0.0</td>\n",
       "      <td>0.0</td>\n",
       "      <td>0.0</td>\n",
       "      <td>0.714286</td>\n",
       "      <td>2.428571</td>\n",
       "      <td>0.285714</td>\n",
       "    </tr>\n",
       "  </tbody>\n",
       "</table>\n",
       "<p>5 rows × 29 columns</p>\n",
       "</div>"
      ],
      "text/plain": [
       "   userId gender location  registeredDays validLevel   avgLength  cntSessions  \\\n",
       "0  100010      F       CT              55       free  243.421445            7   \n",
       "1  100010      F       CT              55       free  243.421445            7   \n",
       "2  100010      F       CT              55       free  243.421445            7   \n",
       "3  100010      F       CT              55       free  243.421445            7   \n",
       "4  100010      F       CT              55       free  243.421445            7   \n",
       "\n",
       "   avgDailySessions  avgDailyItem  cntActiveDays       ...         \\\n",
       "0         54.428571     15.857143              7       ...          \n",
       "1         54.428571     15.857143              7       ...          \n",
       "2         54.428571     15.857143              7       ...          \n",
       "3         54.428571     15.857143              7       ...          \n",
       "4         54.428571     15.857143              7       ...          \n",
       "\n",
       "   avgDailyLogout  avgDailyNextSong  avgDailyRollAdvert  avgDailySaveSettings  \\\n",
       "0        0.714286         39.285714            7.428571                   0.0   \n",
       "1        0.714286         39.285714            7.428571                   0.0   \n",
       "2        0.714286         39.285714            7.428571                   0.0   \n",
       "3        0.714286         39.285714            7.428571                   0.0   \n",
       "4        0.714286         39.285714            7.428571                   0.0   \n",
       "\n",
       "   avgDailySettings  avgDailySubmitDowngrade  avgDailySubmitUpgrade  \\\n",
       "0               0.0                      0.0                    0.0   \n",
       "1               0.0                      0.0                    0.0   \n",
       "2               0.0                      0.0                    0.0   \n",
       "3               0.0                      0.0                    0.0   \n",
       "4               0.0                      0.0                    0.0   \n",
       "\n",
       "   avgDailyThumbsDown  avgDailyThumbsUp  avgDailyUpgrade  \n",
       "0            0.714286          2.428571         0.285714  \n",
       "1            0.714286          2.428571         0.285714  \n",
       "2            0.714286          2.428571         0.285714  \n",
       "3            0.714286          2.428571         0.285714  \n",
       "4            0.714286          2.428571         0.285714  \n",
       "\n",
       "[5 rows x 29 columns]"
      ]
     },
     "execution_count": 14,
     "metadata": {},
     "output_type": "execute_result"
    }
   ],
   "source": [
    "pd.DataFrame(finalDf.take(5), columns=finalDf.columns).head(10)"
   ]
  },
  {
   "cell_type": "markdown",
   "metadata": {},
   "source": [
    "# Modeling\n",
    "Split the full dataset into train, test, and validation sets. Test out several of the machine learning methods you learned. Evaluate the accuracy of the various models, tuning parameters as necessary. Determine your winning model based on test accuracy and report results on the validation set. Since the churned users are a fairly small subset, I suggest using F1 score as the metric to optimize."
   ]
  },
  {
   "cell_type": "code",
   "execution_count": 15,
   "metadata": {},
   "outputs": [],
   "source": [
    "def build_pipeline(num_cols):\n",
    "    \"\"\"creates a pipeline w/ indexer & assembler\n",
    "    :param num_cols:  list of numerical column names\n",
    "    :return processing pipeline\n",
    "    \"\"\"\n",
    "    idxr_location = StringIndexer(inputCol='location', outputCol='location_idx')\n",
    "    idxr_gender = StringIndexer(inputCol='gender', outputCol='gender_idx')\n",
    "    idxr_validLevel = StringIndexer(inputCol='validLevel', outputCol='validLevel_idx')\n",
    "\n",
    "    vAssembler = VectorAssembler(inputCols=num_cols, outputCol='features')\n",
    "\n",
    "    process_pipeline = Pipeline(stages=[idxr_location, idxr_gender, idxr_validLevel, vAssembler])\n",
    "\n",
    "    return process_pipeline"
   ]
  },
  {
   "cell_type": "code",
   "execution_count": 16,
   "metadata": {},
   "outputs": [],
   "source": [
    "def finalize_model_data (df):\n",
    "    \"\"\"transforms features for modelling\n",
    "    :param features_df: feature dataframe\n",
    "    :return model data\n",
    "    \"\"\"\n",
    "    num_cols = []\n",
    "    \n",
    "    for field in df.schema.fields :\n",
    "        if field.dataType!=StringType():\n",
    "            num_cols.append(field.name)\n",
    "\n",
    "    num_cols.remove('churn')\n",
    "\n",
    "    process_pipeline = build_pipeline(num_cols)\n",
    "    model_df = process_pipeline.fit(df).transform(df)\n",
    "\n",
    "    return model_df"
   ]
  },
  {
   "cell_type": "code",
   "execution_count": 17,
   "metadata": {},
   "outputs": [],
   "source": [
    "def evaluate_model(results):\n",
    "    \"\"\"output evaluator\n",
    "    :param results: model prediction outputs\n",
    "    :return None\n",
    "    \"\"\"\n",
    "\n",
    "    f1_score_evaluator = MulticlassClassificationEvaluator(metricName='f1')\n",
    "    f1_score = f1_score_evaluator.evaluate(results.select(col('label'), col('prediction')))\n",
    "    print('F1 score : {:.2%}'.format(f1_score)) \n",
    "    \n",
    "    auc_evaluator = BinaryClassificationEvaluator()\n",
    "    metric_value = auc_evaluator.evaluate(results, {auc_evaluator.metricName: \"areaUnderROC\"})\n",
    "    print('areaUnderROC : {:.2%}'.format(metric_value))"
   ]
  },
  {
   "cell_type": "code",
   "execution_count": 18,
   "metadata": {},
   "outputs": [],
   "source": [
    "def fit_model(train, test):\n",
    "    \"\"\"fits and runs predictions \n",
    "    :param train : training data\n",
    "    :param test : testing data\n",
    "    :return \n",
    "    \"\"\"\n",
    "    train=train.withColumnRenamed('churn','label')\n",
    "    test=test.withColumnRenamed('churn','label')\n",
    "\n",
    "    ml = GBTClassifier()\n",
    "    clf = ml.fit(train)\n",
    "    print (\"fitted\")\n",
    "    results = clf.transform(test)\n",
    "    print (\"transformed\")\n",
    "    evaluate_model(results)\n",
    "    return clf, results"
   ]
  },
  {
   "cell_type": "code",
   "execution_count": 19,
   "metadata": {},
   "outputs": [],
   "source": [
    "model_data = finalize_model_data(finalDf)"
   ]
  },
  {
   "cell_type": "code",
   "execution_count": 20,
   "metadata": {},
   "outputs": [],
   "source": [
    "train, test = model_data.randomSplit([0.8, 0.2], seed=42)"
   ]
  },
  {
   "cell_type": "markdown",
   "metadata": {},
   "source": [
    "# Final Steps\n",
    "Clean up your code, adding comments and renaming variables to make the code easier to read and maintain. Refer to the Spark Project Overview page and Data Scientist Capstone Project Rubric to make sure you are including all components of the capstone project and meet all expectations. Remember, this includes thorough documentation in a README file in a Github repository, as well as a web app or blog post."
   ]
  },
  {
   "cell_type": "code",
   "execution_count": 21,
   "metadata": {},
   "outputs": [
    {
     "name": "stdout",
     "output_type": "stream",
     "text": [
      "fitted\n",
      "transformed\n",
      "F1 score : 99.38%\n",
      "areaUnderROC : 100.00%\n"
     ]
    },
    {
     "data": {
      "text/plain": [
       "(GBTClassificationModel (uid=GBTClassifier_69e734cf9ba2) with 20 trees,\n",
       " DataFrame[userId: string, gender: string, location: string, registeredDays: int, validLevel: string, avgLength: double, cntSessions: int, avgDailySessions: double, avgDailyItem: double, cntActiveDays: int, avgDailySessionLength: double, label: int, avgDailyAbout: double, avgDailyAddFriend: double, avgDailyAddtoPlaylist: double, avgDailyDowngrade: double, avgDailyError: double, avgDailyHelp: double, avgDailyHome: double, avgDailyLogout: double, avgDailyNextSong: double, avgDailyRollAdvert: double, avgDailySaveSettings: double, avgDailySettings: double, avgDailySubmitDowngrade: double, avgDailySubmitUpgrade: double, avgDailyThumbsDown: double, avgDailyThumbsUp: double, avgDailyUpgrade: double, location_idx: double, gender_idx: double, validLevel_idx: double, features: vector, rawPrediction: vector, probability: vector, prediction: double])"
      ]
     },
     "execution_count": 21,
     "metadata": {},
     "output_type": "execute_result"
    }
   ],
   "source": [
    "fit_model(train, test)"
   ]
  }
 ],
 "metadata": {
  "kernelspec": {
   "display_name": "Python [default]",
   "language": "python",
   "name": "python3"
  },
  "language_info": {
   "codemirror_mode": {
    "name": "ipython",
    "version": 3
   },
   "file_extension": ".py",
   "mimetype": "text/x-python",
   "name": "python",
   "nbconvert_exporter": "python",
   "pygments_lexer": "ipython3",
   "version": "3.6.4"
  }
 },
 "nbformat": 4,
 "nbformat_minor": 2
}
